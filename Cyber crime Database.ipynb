{
 "cells": [
  {
   "cell_type": "code",
   "execution_count": 17,
   "metadata": {},
   "outputs": [],
   "source": [
    "from bs4 import BeautifulSoup\n",
    "import requests\n",
    "import time\n"
   ]
  },
  {
   "cell_type": "code",
   "execution_count": 18,
   "metadata": {},
   "outputs": [],
   "source": [
    "base_url = 'https://www.fbi.gov'\n",
    "\n",
    "main_url = f'{base_url}/wanted/cyber'\n",
    "response = requests.get(main_url)\n",
    "soup = BeautifulSoup(response.text, 'html.parser')"
   ]
  },
  {
   "cell_type": "code",
   "execution_count": 19,
   "metadata": {},
   "outputs": [],
   "source": [
    "headers = {\n",
    "    'User-Agent': 'Mozilla/5.0 (Windows NT 10.0; Win64; x64) AppleWebKit/537.36 (KHTML, like Gecko) Chrome/114.0 Safari/537.36'\n",
    "}\n",
    "response = requests.get(main_url, headers=headers)\n"
   ]
  },
  {
   "cell_type": "code",
   "execution_count": 20,
   "metadata": {},
   "outputs": [],
   "source": [
    "cards = soup.find_all('div', class_='portal-type-person')"
   ]
  },
  {
   "cell_type": "code",
   "execution_count": 21,
   "metadata": {},
   "outputs": [],
   "source": [
    "import csv\n",
    "data=[]\n",
    "    \n"
   ]
  },
  {
   "cell_type": "code",
   "execution_count": 22,
   "metadata": {},
   "outputs": [],
   "source": [
    "for index, card in enumerate(cards, start=1):\n",
    "    name = card.find('h3').text.strip()\n",
    "\n",
    "    relative_link = card.find('a')['href']\n",
    "    profile_url = f'{base_url}{relative_link}' if relative_link.startswith('/') else relative_link\n",
    "\n",
    "    img_tag = card.find('img')\n",
    "    img_url = f\"{base_url}{img_tag['src']}\" if img_tag and img_tag['src'].startswith('/') else img_tag['src'] if img_tag else ''\n",
    "\n",
    "    profile_response = requests.get(profile_url)\n",
    "    profile_soup = BeautifulSoup(profile_response.text, 'html.parser')\n",
    "\n",
    "    description_div = profile_soup.find('div', {'class': 'wanted-person-description'})\n",
    "    aliases = \"\"\n",
    "    nationality = \"\"\n",
    "    date_of_birth = \"\"\n",
    "    place_of_birth = \"\"\n",
    "    charges = \"\"\n",
    "\n",
    "    details = profile_soup.find_all('div', class_='wanted-person-details')\n",
    "    for detail_section in details:\n",
    "        items = detail_section.find_all('li')\n",
    "        for item in items:\n",
    "            text = item.get_text(separator=\":\").strip()\n",
    "            if 'Aliases' in text:\n",
    "                aliases = text.split(\":\", 1)[-1].strip()\n",
    "            elif 'Date(s) of Birth Used' in text:\n",
    "                date_of_birth = text.split(\":\", 1)[-1].strip()\n",
    "            elif 'Place of Birth' in text:\n",
    "                place_of_birth = text.split(\":\", 1)[-1].strip()\n",
    "            elif 'Nationality' in text:\n",
    "                nationality = text.split(\":\", 1)[-1].strip()\n",
    "            elif 'Charges' in text:\n",
    "                charges = text.split(\":\", 1)[-1].strip()\n",
    "\n",
    "    data.append([\n",
    "        name,\n",
    "        profile_url,\n",
    "        img_url,\n",
    "        aliases,\n",
    "        date_of_birth,\n",
    "        place_of_birth,\n",
    "        nationality,\n",
    "        charges\n",
    "    ])\n",
    "\n",
    "    print(f\"[{index}/{len(cards)}] Scraped: {name}\")\n",
    "\n",
    "    time.sleep(1)\n"
   ]
  },
  {
   "cell_type": "code",
   "execution_count": 24,
   "metadata": {},
   "outputs": [
    {
     "name": "stdout",
     "output_type": "stream",
     "text": [
      "\n",
      "✅ Done! Saved 0 entries to 'cyber_wanted_full.csv'\n"
     ]
    }
   ],
   "source": [
    "with open('cyber_wanted_full.csv', 'w', newline='', encoding='utf-8') as f:\n",
    "    writer = csv.writer(f)\n",
    "    writer.writerow(['Name', 'Profile URL', 'Image URL', 'Aliases', 'DOB', 'Place of Birth', 'Nationality', 'Charges'])\n",
    "    writer.writerows(data)\n",
    "\n",
    "print(f\"\\n✅ Done! Saved {len(data)} entries to 'cyber_wanted_full.csv'\")\n"
   ]
  },
  {
   "cell_type": "code",
   "execution_count": 25,
   "metadata": {},
   "outputs": [
    {
     "name": "stdout",
     "output_type": "stream",
     "text": [
      "Found 0 cards\n",
      "\n",
      "✅ Done! Saved 0 entries to 'cyber_wanted_full.csv'\n"
     ]
    }
   ],
   "source": [
    "import requests\n",
    "from bs4 import BeautifulSoup\n",
    "import csv\n",
    "import time\n",
    "\n",
    "# Base URL\n",
    "base_url = 'https://www.fbi.gov'\n",
    "main_url = f'{base_url}/wanted/cyber'\n",
    "headers = {\n",
    "    'User-Agent': 'Mozilla/5.0 (Windows NT 10.0; Win64; x64)'\n",
    "}\n",
    "\n",
    "# Request main page\n",
    "response = requests.get(main_url, headers=headers)\n",
    "soup = BeautifulSoup(response.text, 'html.parser')\n",
    "\n",
    "# Use updated li class\n",
    "cards = soup.find_all('li', class_='portal-type-person')\n",
    "\n",
    "print(f\"Found {len(cards)} cards\")\n",
    "\n",
    "data = []\n",
    "\n",
    "for i, card in enumerate(cards, start=1):\n",
    "    # Get name\n",
    "    name_tag = card.find('h3', class_='title')\n",
    "    name = name_tag.text.strip() if name_tag else 'N/A'\n",
    "\n",
    "    # Profile URL\n",
    "    profile_link = name_tag.find('a')['href']\n",
    "    profile_url = profile_link if profile_link.startswith('http') else f\"{base_url}{profile_link}\"\n",
    "\n",
    "    # Image URL\n",
    "    img_tag = card.find('img')\n",
    "    img_url = img_tag['src'] if img_tag else 'N/A'\n",
    "\n",
    "    # Visit profile page\n",
    "    profile_resp = requests.get(profile_url, headers=headers)\n",
    "    profile_soup = BeautifulSoup(profile_resp.text, 'html.parser')\n",
    "\n",
    "    # Extract details\n",
    "    aliases = dob = pob = nationality = charges = 'N/A'\n",
    "\n",
    "    details = profile_soup.find_all('div', class_='wanted-person-details')\n",
    "    for detail_block in details:\n",
    "        items = detail_block.find_all('li')\n",
    "        for item in items:\n",
    "            text = item.get_text(separator=\":\").strip()\n",
    "            if 'Aliases' in text:\n",
    "                aliases = text.split(':', 1)[-1].strip()\n",
    "            elif 'Date(s) of Birth Used' in text:\n",
    "                dob = text.split(':', 1)[-1].strip()\n",
    "            elif 'Place of Birth' in text:\n",
    "                pob = text.split(':', 1)[-1].strip()\n",
    "            elif 'Nationality' in text:\n",
    "                nationality = text.split(':', 1)[-1].strip()\n",
    "            elif 'Charges' in text:\n",
    "                charges = text.split(':', 1)[-1].strip()\n",
    "\n",
    "    data.append([\n",
    "        name, profile_url, img_url, aliases, dob, pob, nationality, charges\n",
    "    ])\n",
    "\n",
    "    print(f\"[{i}/{len(cards)}] Scraped: {name}\")\n",
    "    time.sleep(1)  # be polite to the server\n",
    "\n",
    "# Write to CSV\n",
    "with open('cyber_wanted_full.csv', 'w', newline='', encoding='utf-8') as f:\n",
    "    writer = csv.writer(f)\n",
    "    writer.writerow(['Name', 'Profile URL', 'Image URL', 'Aliases', 'DOB', 'Place of Birth', 'Nationality', 'Charges'])\n",
    "    writer.writerows(data)\n",
    "\n",
    "print(f\"\\n✅ Done! Saved {len(data)} entries to 'cyber_wanted_full.csv'\")\n"
   ]
  },
  {
   "cell_type": "code",
   "execution_count": 31,
   "metadata": {},
   "outputs": [
    {
     "name": "stdout",
     "output_type": "stream",
     "text": [
      "Found 0 cards.\n",
      "\n",
      "✅ Done! Saved 0 entries to 'cyber_wanted_full.csv'\n"
     ]
    }
   ],
   "source": [
    "from selenium import webdriver\n",
    "from selenium.webdriver.chrome.service import Service\n",
    "from webdriver_manager.chrome import ChromeDriverManager\n",
    "from bs4 import BeautifulSoup\n",
    "import csv\n",
    "import time\n",
    "\n",
    "# Setup Selenium\n",
    "options = webdriver.ChromeOptions()\n",
    "options.add_argument('--headless')  # Run in background\n",
    "options.add_argument('--disable-gpu')\n",
    "driver = webdriver.Chrome(service=Service(ChromeDriverManager().install()), options=options)\n",
    "\n",
    "# Load the FBI Cyber Wanted page\n",
    "driver.get(\"https://www.fbi.gov/wanted/cyber\")\n",
    "time.sleep(5)  # Wait for JS to load\n",
    "\n",
    "# Get rendered page source\n",
    "soup = BeautifulSoup(driver.page_source, 'html.parser')\n",
    "driver.quit()\n",
    "\n",
    "# Find wanted person cards\n",
    "cards = soup.find_all('li', class_='portal-type-person')\n",
    "print(f\"Found {len(cards)} cards.\")\n",
    "\n",
    "data = []\n",
    "\n",
    "for card in cards:\n",
    "    name_tag = card.find('h3', class_='title')\n",
    "    name = name_tag.text.strip() if name_tag else 'N/A'\n",
    "    profile_link = name_tag.find('a')['href']\n",
    "    profile_url = profile_link if profile_link.startswith('http') else f\"https://www.fbi.gov{profile_link}\"\n",
    "    img_tag = card.find('img')\n",
    "    img_url = img_tag['src'] if img_tag else ''\n",
    "\n",
    "    # Fetch full profile page\n",
    "    driver = webdriver.Chrome(service=Service(ChromeDriverManager().install()), options=options)\n",
    "    driver.get(profile_url)\n",
    "    time.sleep(3)\n",
    "    profile_soup = BeautifulSoup(driver.page_source, 'html.parser')\n",
    "    driver.quit()\n",
    "\n",
    "    # Extract details\n",
    "    aliases = dob = pob = nationality = charges = 'N/A'\n",
    "    details = profile_soup.find_all('div', class_='wanted-person-details')\n",
    "    for detail_block in details:\n",
    "        items = detail_block.find_all('li')\n",
    "        for item in items:\n",
    "            text = item.get_text(separator=\":\").strip()\n",
    "            if 'Aliases' in text:\n",
    "                aliases = text.split(':', 1)[-1].strip()\n",
    "            elif 'Date(s) of Birth Used' in text:\n",
    "                dob = text.split(':', 1)[-1].strip()\n",
    "            elif 'Place of Birth' in text:\n",
    "                pob = text.split(':', 1)[-1].strip()\n",
    "            elif 'Nationality' in text:\n",
    "                nationality = text.split(':', 1)[-1].strip()\n",
    "            elif 'Charges' in text:\n",
    "                charges = text.split(':', 1)[-1].strip()\n",
    "\n",
    "    data.append([name, profile_url, img_url, aliases, dob, pob, nationality, charges])\n",
    "    print(f\"Scraped: {name}\")\n",
    "\n",
    "# Save to CSV\n",
    "with open('cyber_wanted_full.csv', 'w', newline='', encoding='utf-8') as f:\n",
    "    writer = csv.writer(f)\n",
    "    writer.writerow(['Name', 'Profile URL', 'Image URL', 'Aliases', 'DOB', 'Place of Birth', 'Nationality', 'Charges'])\n",
    "    writer.writerows(data)\n",
    "\n",
    "print(f\"\\n✅ Done! Saved {len(data)} entries to 'cyber_wanted_full.csv'\")\n"
   ]
  },
  {
   "cell_type": "code",
   "execution_count": 28,
   "metadata": {},
   "outputs": [
    {
     "name": "stdout",
     "output_type": "stream",
     "text": [
      "Requirement already satisfied: selenium in c:\\users\\yatharth nagpal\\anaconda3\\lib\\site-packages (4.33.0)\n",
      "Requirement already satisfied: urllib3~=2.4.0 in c:\\users\\yatharth nagpal\\anaconda3\\lib\\site-packages (from urllib3[socks]~=2.4.0->selenium) (2.4.0)\n",
      "Requirement already satisfied: trio~=0.30.0 in c:\\users\\yatharth nagpal\\anaconda3\\lib\\site-packages (from selenium) (0.30.0)\n",
      "Requirement already satisfied: trio-websocket~=0.12.2 in c:\\users\\yatharth nagpal\\anaconda3\\lib\\site-packages (from selenium) (0.12.2)\n",
      "Requirement already satisfied: certifi>=2025.4.26 in c:\\users\\yatharth nagpal\\anaconda3\\lib\\site-packages (from selenium) (2025.6.15)\n",
      "Requirement already satisfied: typing_extensions~=4.13.2 in c:\\users\\yatharth nagpal\\anaconda3\\lib\\site-packages (from selenium) (4.13.2)\n",
      "Requirement already satisfied: websocket-client~=1.8.0 in c:\\users\\yatharth nagpal\\anaconda3\\lib\\site-packages (from selenium) (1.8.0)\n",
      "Requirement already satisfied: attrs>=23.2.0 in c:\\users\\yatharth nagpal\\anaconda3\\lib\\site-packages (from trio~=0.30.0->selenium) (25.3.0)\n",
      "Requirement already satisfied: sortedcontainers in c:\\users\\yatharth nagpal\\anaconda3\\lib\\site-packages (from trio~=0.30.0->selenium) (2.4.0)\n",
      "Requirement already satisfied: idna in c:\\users\\yatharth nagpal\\anaconda3\\lib\\site-packages (from trio~=0.30.0->selenium) (3.7)\n",
      "Requirement already satisfied: outcome in c:\\users\\yatharth nagpal\\anaconda3\\lib\\site-packages (from trio~=0.30.0->selenium) (1.3.0.post0)\n",
      "Requirement already satisfied: sniffio>=1.3.0 in c:\\users\\yatharth nagpal\\anaconda3\\lib\\site-packages (from trio~=0.30.0->selenium) (1.3.0)\n",
      "Requirement already satisfied: cffi>=1.14 in c:\\users\\yatharth nagpal\\anaconda3\\lib\\site-packages (from trio~=0.30.0->selenium) (1.17.1)\n",
      "Requirement already satisfied: wsproto>=0.14 in c:\\users\\yatharth nagpal\\anaconda3\\lib\\site-packages (from trio-websocket~=0.12.2->selenium) (1.2.0)\n",
      "Requirement already satisfied: pysocks!=1.5.7,<2.0,>=1.5.6 in c:\\users\\yatharth nagpal\\anaconda3\\lib\\site-packages (from urllib3[socks]~=2.4.0->selenium) (1.7.1)\n",
      "Requirement already satisfied: pycparser in c:\\users\\yatharth nagpal\\anaconda3\\lib\\site-packages (from cffi>=1.14->trio~=0.30.0->selenium) (2.21)\n",
      "Requirement already satisfied: h11<1,>=0.9.0 in c:\\users\\yatharth nagpal\\anaconda3\\lib\\site-packages (from wsproto>=0.14->trio-websocket~=0.12.2->selenium) (0.14.0)\n"
     ]
    }
   ],
   "source": [
    "!pip install selenium"
   ]
  },
  {
   "cell_type": "code",
   "execution_count": 30,
   "metadata": {},
   "outputs": [
    {
     "name": "stderr",
     "output_type": "stream",
     "text": [
      "ERROR: Could not find a version that satisfies the requirement webdriver (from versions: none)\n",
      "ERROR: No matching distribution found for webdriver\n"
     ]
    }
   ],
   "source": [
    "!pip install webdriver"
   ]
  },
  {
   "cell_type": "code",
   "execution_count": 32,
   "metadata": {},
   "outputs": [],
   "source": [
    "# ✅ Imports\n",
    "from selenium import webdriver\n",
    "from selenium.webdriver.chrome.service import Service\n",
    "from webdriver_manager.chrome import ChromeDriverManager\n",
    "from selenium.webdriver.chrome.options import Options\n",
    "from selenium.webdriver.common.by import By\n",
    "from selenium.webdriver.support.ui import WebDriverWait\n",
    "from selenium.webdriver.support import expected_conditions as EC\n",
    "from bs4 import BeautifulSoup\n",
    "import csv\n",
    "import time\n"
   ]
  },
  {
   "cell_type": "code",
   "execution_count": 36,
   "metadata": {},
   "outputs": [],
   "source": [
    "options = Options()\n",
    "options.add_argument('--disable-gpu')\n",
    "options.add_argument('--no-sandbox')\n",
    "options.add_argument('--disable-dev-shm-usage')\n",
    "options.add_argument(\"user-agent=Mozilla/5.0 (Windows NT 10.0; Win64; x64) AppleWebKit/537.36 Chrome/122.0.0.0 Safari/537.36\")\n",
    "# Do NOT enable headless for now\n",
    "\n",
    "driver = webdriver.Chrome(service=Service(ChromeDriverManager().install()), options=options)\n"
   ]
  },
  {
   "cell_type": "code",
   "execution_count": 37,
   "metadata": {},
   "outputs": [
    {
     "ename": "InvalidSessionIdException",
     "evalue": "Message: invalid session id: session deleted as the browser has closed the connection\nfrom disconnected: not connected to DevTools\n  (Session info: chrome=137.0.7151.104)\nStacktrace:\n\tGetHandleVerifier [0x0x333783+63299]\n\tGetHandleVerifier [0x0x3337c4+63364]\n\t(No symbol) [0x0x161113]\n\t(No symbol) [0x0x1508a0]\n\t(No symbol) [0x0x16e8c2]\n\t(No symbol) [0x0x1d519c]\n\t(No symbol) [0x0x1ef359]\n\t(No symbol) [0x0x1ce376]\n\t(No symbol) [0x0x19d6e0]\n\t(No symbol) [0x0x19e544]\n\tGetHandleVerifier [0x0x58e073+2531379]\n\tGetHandleVerifier [0x0x589372+2511666]\n\tGetHandleVerifier [0x0x359efa+220858]\n\tGetHandleVerifier [0x0x34a548+156936]\n\tGetHandleVerifier [0x0x350c7d+183357]\n\tGetHandleVerifier [0x0x33b6e8+95912]\n\tGetHandleVerifier [0x0x33b890+96336]\n\tGetHandleVerifier [0x0x32666a+9770]\n\tBaseThreadInitThunk [0x0x76de5d49+25]\n\tRtlInitializeExceptionChain [0x0x7753d09b+107]\n\tRtlGetAppContainerNamedObjectPath [0x0x7753d021+561]\n\t(No symbol) [0x0]\n",
     "output_type": "error",
     "traceback": [
      "\u001b[1;31m---------------------------------------------------------------------------\u001b[0m",
      "\u001b[1;31mInvalidSessionIdException\u001b[0m                 Traceback (most recent call last)",
      "\u001b[1;32mc:\\Users\\Yatharth nagpal\\Desktop\\Dataset\\Cyber crime Database.ipynb Cell 14\u001b[0m line \u001b[0;36m3\n\u001b[0;32m      <a href='vscode-notebook-cell:/c%3A/Users/Yatharth%20nagpal/Desktop/Dataset/Cyber%20crime%20Database.ipynb#X22sZmlsZQ%3D%3D?line=0'>1</a>\u001b[0m \u001b[39m# ✅ Load FBI Cyber Wanted Page\u001b[39;00m\n\u001b[0;32m      <a href='vscode-notebook-cell:/c%3A/Users/Yatharth%20nagpal/Desktop/Dataset/Cyber%20crime%20Database.ipynb#X22sZmlsZQ%3D%3D?line=1'>2</a>\u001b[0m url \u001b[39m=\u001b[39m \u001b[39m\"\u001b[39m\u001b[39mhttps://www.fbi.gov/wanted/cyber\u001b[39m\u001b[39m\"\u001b[39m\n\u001b[1;32m----> <a href='vscode-notebook-cell:/c%3A/Users/Yatharth%20nagpal/Desktop/Dataset/Cyber%20crime%20Database.ipynb#X22sZmlsZQ%3D%3D?line=2'>3</a>\u001b[0m driver\u001b[39m.\u001b[39mget(url)\n\u001b[0;32m      <a href='vscode-notebook-cell:/c%3A/Users/Yatharth%20nagpal/Desktop/Dataset/Cyber%20crime%20Database.ipynb#X22sZmlsZQ%3D%3D?line=4'>5</a>\u001b[0m \u001b[39m# Wait until cards are present\u001b[39;00m\n\u001b[0;32m      <a href='vscode-notebook-cell:/c%3A/Users/Yatharth%20nagpal/Desktop/Dataset/Cyber%20crime%20Database.ipynb#X22sZmlsZQ%3D%3D?line=5'>6</a>\u001b[0m WebDriverWait(driver, \u001b[39m15\u001b[39m)\u001b[39m.\u001b[39muntil(\n\u001b[0;32m      <a href='vscode-notebook-cell:/c%3A/Users/Yatharth%20nagpal/Desktop/Dataset/Cyber%20crime%20Database.ipynb#X22sZmlsZQ%3D%3D?line=6'>7</a>\u001b[0m     EC\u001b[39m.\u001b[39mpresence_of_element_located((By\u001b[39m.\u001b[39mCLASS_NAME, \u001b[39m\"\u001b[39m\u001b[39mportal-type-person\u001b[39m\u001b[39m\"\u001b[39m))\n\u001b[0;32m      <a href='vscode-notebook-cell:/c%3A/Users/Yatharth%20nagpal/Desktop/Dataset/Cyber%20crime%20Database.ipynb#X22sZmlsZQ%3D%3D?line=7'>8</a>\u001b[0m )\n",
      "File \u001b[1;32mc:\\Users\\Yatharth nagpal\\anaconda3\\Lib\\site-packages\\selenium\\webdriver\\remote\\webdriver.py:472\u001b[0m, in \u001b[0;36mWebDriver.get\u001b[1;34m(self, url)\u001b[0m\n\u001b[0;32m    454\u001b[0m \u001b[39mdef\u001b[39;00m \u001b[39mget\u001b[39m(\u001b[39mself\u001b[39m, url: \u001b[39mstr\u001b[39m) \u001b[39m-\u001b[39m\u001b[39m>\u001b[39m \u001b[39mNone\u001b[39;00m:\n\u001b[0;32m    455\u001b[0m \u001b[39m    \u001b[39m\u001b[39m\"\"\"Navigate the browser to the specified URL in the current window or\u001b[39;00m\n\u001b[0;32m    456\u001b[0m \u001b[39m    tab.\u001b[39;00m\n\u001b[0;32m    457\u001b[0m \n\u001b[1;32m   (...)\u001b[0m\n\u001b[0;32m    470\u001b[0m \u001b[39m    >>> driver.get(\"https://example.com\")\u001b[39;00m\n\u001b[0;32m    471\u001b[0m \u001b[39m    \"\"\"\u001b[39;00m\n\u001b[1;32m--> 472\u001b[0m     \u001b[39mself\u001b[39m\u001b[39m.\u001b[39mexecute(Command\u001b[39m.\u001b[39mGET, {\u001b[39m\"\u001b[39m\u001b[39murl\u001b[39m\u001b[39m\"\u001b[39m: url})\n",
      "File \u001b[1;32mc:\\Users\\Yatharth nagpal\\anaconda3\\Lib\\site-packages\\selenium\\webdriver\\remote\\webdriver.py:447\u001b[0m, in \u001b[0;36mWebDriver.execute\u001b[1;34m(self, driver_command, params)\u001b[0m\n\u001b[0;32m    445\u001b[0m response \u001b[39m=\u001b[39m \u001b[39mself\u001b[39m\u001b[39m.\u001b[39mcommand_executor\u001b[39m.\u001b[39mexecute(driver_command, params)\n\u001b[0;32m    446\u001b[0m \u001b[39mif\u001b[39;00m response:\n\u001b[1;32m--> 447\u001b[0m     \u001b[39mself\u001b[39m\u001b[39m.\u001b[39merror_handler\u001b[39m.\u001b[39mcheck_response(response)\n\u001b[0;32m    448\u001b[0m     response[\u001b[39m\"\u001b[39m\u001b[39mvalue\u001b[39m\u001b[39m\"\u001b[39m] \u001b[39m=\u001b[39m \u001b[39mself\u001b[39m\u001b[39m.\u001b[39m_unwrap_value(response\u001b[39m.\u001b[39mget(\u001b[39m\"\u001b[39m\u001b[39mvalue\u001b[39m\u001b[39m\"\u001b[39m, \u001b[39mNone\u001b[39;00m))\n\u001b[0;32m    449\u001b[0m     \u001b[39mreturn\u001b[39;00m response\n",
      "File \u001b[1;32mc:\\Users\\Yatharth nagpal\\anaconda3\\Lib\\site-packages\\selenium\\webdriver\\remote\\errorhandler.py:232\u001b[0m, in \u001b[0;36mErrorHandler.check_response\u001b[1;34m(self, response)\u001b[0m\n\u001b[0;32m    230\u001b[0m         alert_text \u001b[39m=\u001b[39m value[\u001b[39m\"\u001b[39m\u001b[39malert\u001b[39m\u001b[39m\"\u001b[39m]\u001b[39m.\u001b[39mget(\u001b[39m\"\u001b[39m\u001b[39mtext\u001b[39m\u001b[39m\"\u001b[39m)\n\u001b[0;32m    231\u001b[0m     \u001b[39mraise\u001b[39;00m exception_class(message, screen, stacktrace, alert_text)  \u001b[39m# type: ignore[call-arg]  # mypy is not smart enough here\u001b[39;00m\n\u001b[1;32m--> 232\u001b[0m \u001b[39mraise\u001b[39;00m exception_class(message, screen, stacktrace)\n",
      "\u001b[1;31mInvalidSessionIdException\u001b[0m: Message: invalid session id: session deleted as the browser has closed the connection\nfrom disconnected: not connected to DevTools\n  (Session info: chrome=137.0.7151.104)\nStacktrace:\n\tGetHandleVerifier [0x0x333783+63299]\n\tGetHandleVerifier [0x0x3337c4+63364]\n\t(No symbol) [0x0x161113]\n\t(No symbol) [0x0x1508a0]\n\t(No symbol) [0x0x16e8c2]\n\t(No symbol) [0x0x1d519c]\n\t(No symbol) [0x0x1ef359]\n\t(No symbol) [0x0x1ce376]\n\t(No symbol) [0x0x19d6e0]\n\t(No symbol) [0x0x19e544]\n\tGetHandleVerifier [0x0x58e073+2531379]\n\tGetHandleVerifier [0x0x589372+2511666]\n\tGetHandleVerifier [0x0x359efa+220858]\n\tGetHandleVerifier [0x0x34a548+156936]\n\tGetHandleVerifier [0x0x350c7d+183357]\n\tGetHandleVerifier [0x0x33b6e8+95912]\n\tGetHandleVerifier [0x0x33b890+96336]\n\tGetHandleVerifier [0x0x32666a+9770]\n\tBaseThreadInitThunk [0x0x76de5d49+25]\n\tRtlInitializeExceptionChain [0x0x7753d09b+107]\n\tRtlGetAppContainerNamedObjectPath [0x0x7753d021+561]\n\t(No symbol) [0x0]\n"
     ]
    }
   ],
   "source": [
    "# ✅ Load FBI Cyber Wanted Page\n",
    "url = \"https://www.fbi.gov/wanted/cyber\"\n",
    "driver.get(url)\n",
    "\n",
    "# Wait until cards are present\n",
    "WebDriverWait(driver, 15).until(\n",
    "    EC.presence_of_element_located((By.CLASS_NAME, \"portal-type-person\"))\n",
    ")\n",
    "\n",
    "# Parse the full rendered page\n",
    "soup = BeautifulSoup(driver.page_source, 'html.parser')\n",
    "cards = soup.find_all('li', class_='portal-type-person')\n",
    "print(f\"✅ Found {len(cards)} wanted persons\")\n"
   ]
  },
  {
   "cell_type": "code",
   "execution_count": 38,
   "metadata": {},
   "outputs": [
    {
     "ename": "InvalidSessionIdException",
     "evalue": "Message: invalid session id\nStacktrace:\n\tGetHandleVerifier [0x0x333783+63299]\n\tGetHandleVerifier [0x0x3337c4+63364]\n\t(No symbol) [0x0x160f70]\n\t(No symbol) [0x0x19c9a8]\n\t(No symbol) [0x0x1ce436]\n\t(No symbol) [0x0x1c9f05]\n\t(No symbol) [0x0x1c9486]\n\t(No symbol) [0x0x133a05]\n\t(No symbol) [0x0x133f5e]\n\t(No symbol) [0x0x1343ed]\n\tGetHandleVerifier [0x0x58e073+2531379]\n\tGetHandleVerifier [0x0x589372+2511666]\n\tGetHandleVerifier [0x0x359efa+220858]\n\tGetHandleVerifier [0x0x34a548+156936]\n\tGetHandleVerifier [0x0x350c7d+183357]\n\t(No symbol) [0x0x1336d0]\n\t(No symbol) [0x0x132edd]\n\tGetHandleVerifier [0x0x6c7f1c+3817180]\n\tBaseThreadInitThunk [0x0x76de5d49+25]\n\tRtlInitializeExceptionChain [0x0x7753d09b+107]\n\tRtlGetAppContainerNamedObjectPath [0x0x7753d021+561]\n\t(No symbol) [0x0]\n",
     "output_type": "error",
     "traceback": [
      "\u001b[1;31m---------------------------------------------------------------------------\u001b[0m",
      "\u001b[1;31mInvalidSessionIdException\u001b[0m                 Traceback (most recent call last)",
      "\u001b[1;32mc:\\Users\\Yatharth nagpal\\Desktop\\Dataset\\Cyber crime Database.ipynb Cell 15\u001b[0m line \u001b[0;36m1\n\u001b[1;32m----> <a href='vscode-notebook-cell:/c%3A/Users/Yatharth%20nagpal/Desktop/Dataset/Cyber%20crime%20Database.ipynb#X23sZmlsZQ%3D%3D?line=0'>1</a>\u001b[0m html \u001b[39m=\u001b[39m driver\u001b[39m.\u001b[39mpage_source\n\u001b[0;32m      <a href='vscode-notebook-cell:/c%3A/Users/Yatharth%20nagpal/Desktop/Dataset/Cyber%20crime%20Database.ipynb#X23sZmlsZQ%3D%3D?line=1'>2</a>\u001b[0m \u001b[39mprint\u001b[39m(html[:\u001b[39m1000\u001b[39m])\n",
      "File \u001b[1;32mc:\\Users\\Yatharth nagpal\\anaconda3\\Lib\\site-packages\\selenium\\webdriver\\remote\\webdriver.py:586\u001b[0m, in \u001b[0;36mWebDriver.page_source\u001b[1;34m(self)\u001b[0m\n\u001b[0;32m    578\u001b[0m \u001b[39m@property\u001b[39m\n\u001b[0;32m    579\u001b[0m \u001b[39mdef\u001b[39;00m \u001b[39mpage_source\u001b[39m(\u001b[39mself\u001b[39m) \u001b[39m-\u001b[39m\u001b[39m>\u001b[39m \u001b[39mstr\u001b[39m:\n\u001b[0;32m    580\u001b[0m \u001b[39m    \u001b[39m\u001b[39m\"\"\"Gets the source of the current page.\u001b[39;00m\n\u001b[0;32m    581\u001b[0m \n\u001b[0;32m    582\u001b[0m \u001b[39m    Example:\u001b[39;00m\n\u001b[0;32m    583\u001b[0m \u001b[39m    --------\u001b[39;00m\n\u001b[0;32m    584\u001b[0m \u001b[39m    >>> print(driver.page_source)\u001b[39;00m\n\u001b[0;32m    585\u001b[0m \u001b[39m    \"\"\"\u001b[39;00m\n\u001b[1;32m--> 586\u001b[0m     \u001b[39mreturn\u001b[39;00m \u001b[39mself\u001b[39m\u001b[39m.\u001b[39mexecute(Command\u001b[39m.\u001b[39mGET_PAGE_SOURCE)[\u001b[39m\"\u001b[39m\u001b[39mvalue\u001b[39m\u001b[39m\"\u001b[39m]\n",
      "File \u001b[1;32mc:\\Users\\Yatharth nagpal\\anaconda3\\Lib\\site-packages\\selenium\\webdriver\\remote\\webdriver.py:447\u001b[0m, in \u001b[0;36mWebDriver.execute\u001b[1;34m(self, driver_command, params)\u001b[0m\n\u001b[0;32m    445\u001b[0m response \u001b[39m=\u001b[39m \u001b[39mself\u001b[39m\u001b[39m.\u001b[39mcommand_executor\u001b[39m.\u001b[39mexecute(driver_command, params)\n\u001b[0;32m    446\u001b[0m \u001b[39mif\u001b[39;00m response:\n\u001b[1;32m--> 447\u001b[0m     \u001b[39mself\u001b[39m\u001b[39m.\u001b[39merror_handler\u001b[39m.\u001b[39mcheck_response(response)\n\u001b[0;32m    448\u001b[0m     response[\u001b[39m\"\u001b[39m\u001b[39mvalue\u001b[39m\u001b[39m\"\u001b[39m] \u001b[39m=\u001b[39m \u001b[39mself\u001b[39m\u001b[39m.\u001b[39m_unwrap_value(response\u001b[39m.\u001b[39mget(\u001b[39m\"\u001b[39m\u001b[39mvalue\u001b[39m\u001b[39m\"\u001b[39m, \u001b[39mNone\u001b[39;00m))\n\u001b[0;32m    449\u001b[0m     \u001b[39mreturn\u001b[39;00m response\n",
      "File \u001b[1;32mc:\\Users\\Yatharth nagpal\\anaconda3\\Lib\\site-packages\\selenium\\webdriver\\remote\\errorhandler.py:232\u001b[0m, in \u001b[0;36mErrorHandler.check_response\u001b[1;34m(self, response)\u001b[0m\n\u001b[0;32m    230\u001b[0m         alert_text \u001b[39m=\u001b[39m value[\u001b[39m\"\u001b[39m\u001b[39malert\u001b[39m\u001b[39m\"\u001b[39m]\u001b[39m.\u001b[39mget(\u001b[39m\"\u001b[39m\u001b[39mtext\u001b[39m\u001b[39m\"\u001b[39m)\n\u001b[0;32m    231\u001b[0m     \u001b[39mraise\u001b[39;00m exception_class(message, screen, stacktrace, alert_text)  \u001b[39m# type: ignore[call-arg]  # mypy is not smart enough here\u001b[39;00m\n\u001b[1;32m--> 232\u001b[0m \u001b[39mraise\u001b[39;00m exception_class(message, screen, stacktrace)\n",
      "\u001b[1;31mInvalidSessionIdException\u001b[0m: Message: invalid session id\nStacktrace:\n\tGetHandleVerifier [0x0x333783+63299]\n\tGetHandleVerifier [0x0x3337c4+63364]\n\t(No symbol) [0x0x160f70]\n\t(No symbol) [0x0x19c9a8]\n\t(No symbol) [0x0x1ce436]\n\t(No symbol) [0x0x1c9f05]\n\t(No symbol) [0x0x1c9486]\n\t(No symbol) [0x0x133a05]\n\t(No symbol) [0x0x133f5e]\n\t(No symbol) [0x0x1343ed]\n\tGetHandleVerifier [0x0x58e073+2531379]\n\tGetHandleVerifier [0x0x589372+2511666]\n\tGetHandleVerifier [0x0x359efa+220858]\n\tGetHandleVerifier [0x0x34a548+156936]\n\tGetHandleVerifier [0x0x350c7d+183357]\n\t(No symbol) [0x0x1336d0]\n\t(No symbol) [0x0x132edd]\n\tGetHandleVerifier [0x0x6c7f1c+3817180]\n\tBaseThreadInitThunk [0x0x76de5d49+25]\n\tRtlInitializeExceptionChain [0x0x7753d09b+107]\n\tRtlGetAppContainerNamedObjectPath [0x0x7753d021+561]\n\t(No symbol) [0x0]\n"
     ]
    }
   ],
   "source": [
    "html = driver.page_source\n",
    "print(html[:1000])  # See what Selenium sees\n"
   ]
  },
  {
   "cell_type": "code",
   "execution_count": null,
   "metadata": {},
   "outputs": [],
   "source": []
  }
 ],
 "metadata": {
  "kernelspec": {
   "display_name": "Python 3",
   "language": "python",
   "name": "python3"
  },
  "language_info": {
   "codemirror_mode": {
    "name": "ipython",
    "version": 3
   },
   "file_extension": ".py",
   "mimetype": "text/x-python",
   "name": "python",
   "nbconvert_exporter": "python",
   "pygments_lexer": "ipython3",
   "version": "3.12.7"
  },
  "orig_nbformat": 4
 },
 "nbformat": 4,
 "nbformat_minor": 2
}
